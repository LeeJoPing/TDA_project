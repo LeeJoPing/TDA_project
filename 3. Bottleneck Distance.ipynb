{
 "cells": [
  {
   "cell_type": "code",
   "execution_count": 1,
   "id": "ae8ad030",
   "metadata": {},
   "outputs": [],
   "source": [
    "# Standard packages\n",
    "import numpy as np\n",
    "from sklearn.metrics import pairwise_distances\n",
    "\n",
    "# For loading data\n",
    "import os \n",
    "from os.path import dirname, join as pjoin\n",
    "import scipy.io as sio\n",
    "\n",
    "# TDA packages\n",
    "import persim\n",
    "from persim import plot_diagrams "
   ]
  },
  {
   "cell_type": "code",
   "execution_count": 140,
   "id": "2f1960b5",
   "metadata": {},
   "outputs": [],
   "source": [
    "with open('audioFile_dict.pickle', 'rb') as handle:\n",
    "    PH_mat_file = pickle.load(handle)"
   ]
  },
  {
   "cell_type": "code",
   "execution_count": 126,
   "id": "08316eea",
   "metadata": {},
   "outputs": [
    {
     "name": "stdout",
     "output_type": "stream",
     "text": [
      "1669.244140625\n"
     ]
    }
   ],
   "source": [
    "distance_bottleneck,(matching) = persim.bottleneck(PH_mat_file[\"Daniel Hello 1.wav\"], PH_mat_file[\"Daniel Hello 2.wav\"], matching=True)\n",
    "print(distance_bottleneck)"
   ]
  },
  {
   "cell_type": "code",
   "execution_count": 119,
   "id": "236666e2",
   "metadata": {},
   "outputs": [
    {
     "name": "stdout",
     "output_type": "stream",
     "text": [
      "3044.326171875\n"
     ]
    }
   ],
   "source": [
    "# this is unexpected, since they are very close in PCA\n",
    "distance_bottleneck1, (matching1) = persim.bottleneck(PH_mat_file[\"Daniel Hello 1.wav\"], PH_mat_file[\"Daniel HAY 1.wav\"], matching=True)\n",
    "print(distance_bottleneck1)"
   ]
  },
  {
   "cell_type": "code",
   "execution_count": 133,
   "id": "5ffb4c7a",
   "metadata": {},
   "outputs": [
    {
     "name": "stdout",
     "output_type": "stream",
     "text": [
      "1694.484375\n"
     ]
    }
   ],
   "source": [
    "distance_bottleneck2, (matching2 ) = persim.bottleneck(PH_mat_file[\"Daniel Hello 1.wav\"], PH_mat_file[\"Daniel TY 1.wav\"], matching=True)\n",
    "print(distance_bottleneck2)"
   ]
  },
  {
   "cell_type": "code",
   "execution_count": 121,
   "id": "37dbbdb0",
   "metadata": {},
   "outputs": [
    {
     "name": "stdout",
     "output_type": "stream",
     "text": [
      "5040.05078125\n"
     ]
    }
   ],
   "source": [
    "distance_bottleneck3, (matching3) = persim.bottleneck(PH_mat_file[\"Daniel Hello 1.wav\"], PH_mat_file[\"Kathy Hello 1.wav\"], matching=True)\n",
    "print(distance_bottleneck3)"
   ]
  },
  {
   "cell_type": "code",
   "execution_count": 141,
   "id": "60b44d96",
   "metadata": {},
   "outputs": [
    {
     "name": "stdout",
     "output_type": "stream",
     "text": [
      "1024.97412109375\n"
     ]
    }
   ],
   "source": [
    "distance_bottleneck3, (matching3) = persim.bottleneck(PH_mat_file[\"Daniel TY 3.wav\"], PH_mat_file[\"Daniel TY 4.wav\"], matching=True)\n",
    "print(distance_bottleneck3)"
   ]
  },
  {
   "cell_type": "code",
   "execution_count": 145,
   "id": "7f3d4549",
   "metadata": {},
   "outputs": [
    {
     "name": "stdout",
     "output_type": "stream",
     "text": [
      "2023.8330078125\n"
     ]
    }
   ],
   "source": [
    "distance_bottleneck5, (matching5) = persim.bottleneck(PH_mat_file[\"Daniel TY 3.wav\"], PH_mat_file[\"Daniel HAY 3.wav\"], matching=True)\n",
    "print(distance_bottleneck5)"
   ]
  },
  {
   "cell_type": "code",
   "execution_count": 146,
   "id": "dcb7fb2c",
   "metadata": {},
   "outputs": [
    {
     "name": "stdout",
     "output_type": "stream",
     "text": [
      "4645.6787109375\n"
     ]
    }
   ],
   "source": [
    "distance_bottleneck4, (matching4) = persim.bottleneck(PH_mat_file[\"Daniel TY 2.wav\"], PH_mat_file[\"Kathy TY 3.wav\"], matching=True)\n",
    "print(distance_bottleneck4)"
   ]
  },
  {
   "cell_type": "code",
   "execution_count": null,
   "id": "57da2bf8",
   "metadata": {},
   "outputs": [],
   "source": []
  }
 ],
 "metadata": {
  "kernelspec": {
   "display_name": "Python 3 (ipykernel)",
   "language": "python",
   "name": "python3"
  },
  "language_info": {
   "codemirror_mode": {
    "name": "ipython",
    "version": 3
   },
   "file_extension": ".py",
   "mimetype": "text/x-python",
   "name": "python",
   "nbconvert_exporter": "python",
   "pygments_lexer": "ipython3",
   "version": "3.9.13"
  }
 },
 "nbformat": 4,
 "nbformat_minor": 5
}
